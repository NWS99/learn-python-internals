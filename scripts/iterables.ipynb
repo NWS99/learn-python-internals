{
 "cells": [
  {
   "attachments": {},
   "cell_type": "markdown",
   "metadata": {},
   "source": [
    "# Learning Iterables"
   ]
  },
  {
   "attachments": {},
   "cell_type": "markdown",
   "metadata": {},
   "source": [
    "## Size comparison"
   ]
  },
  {
   "cell_type": "code",
   "execution_count": 2,
   "metadata": {},
   "outputs": [],
   "source": [
    "import sys\n",
    "import array"
   ]
  },
  {
   "cell_type": "code",
   "execution_count": 3,
   "metadata": {},
   "outputs": [
    {
     "name": "stdout",
     "output_type": "stream",
     "text": [
      "\n",
      "Small Array:92\n",
      "Small List: 88\n",
      "Small Tuple: 64\n",
      "\n"
     ]
    }
   ],
   "source": [
    "# small\n",
    "\n",
    "s_arr = array.array('i', [134587, 234589, 33542])\n",
    "s_lst = [134587, 234589, 33542]\n",
    "s_tup = (134587, 234589, 33542)\n",
    "\n",
    "print(f\"\"\"\n",
    "Small Array:{sys.getsizeof(s_arr)}\n",
    "Small List: {sys.getsizeof(s_lst)}\n",
    "Small Tuple: {sys.getsizeof(s_tup)}\n",
    "\"\"\")"
   ]
  },
  {
   "cell_type": "code",
   "execution_count": 4,
   "metadata": {},
   "outputs": [
    {
     "name": "stdout",
     "output_type": "stream",
     "text": [
      "\n",
      "Medium List Comp Array:400080\n",
      "Medium List Comp List: 800984\n",
      "Medium List Comp Tuple: 800040\n",
      "\n"
     ]
    }
   ],
   "source": [
    "# medium_with_listcomp\n",
    "\n",
    "m_arr_lc = array.array('i', [i for i in range(1, 1000000, 10)])\n",
    "m_lst_lc = [i for i in range(1, 1000000, 10)]\n",
    "m_tup_lc = tuple([i for i in range(1, 1000000, 10)])\n",
    "\n",
    "print(f\"\"\"\n",
    "Medium List Comp Array:{sys.getsizeof(m_arr_lc)}\n",
    "Medium List Comp List: {sys.getsizeof(m_lst_lc)}\n",
    "Medium List Comp Tuple: {sys.getsizeof(m_tup_lc)}\n",
    "\"\"\")"
   ]
  },
  {
   "cell_type": "code",
   "execution_count": 5,
   "metadata": {},
   "outputs": [
    {
     "name": "stdout",
     "output_type": "stream",
     "text": [
      "\n",
      "Medium GenExp Array:408360\n",
      "Medium GenExp List: 64\n",
      "Medium GenExp Tuple: 800040\n",
      "\n"
     ]
    }
   ],
   "source": [
    "# medium_with_genexp\n",
    "\n",
    "m_arr_exp = array.array('i', (i for i in range(1, 1000000, 10)))\n",
    "m_lst_exp = [(i for i in range(1, 1000000, 10))]\n",
    "m_tup_exp = tuple(i for i in range(1, 1000000, 10))\n",
    "\n",
    "print(f\"\"\"\n",
    "Medium GenExp Array:{sys.getsizeof(m_arr_exp)}\n",
    "Medium GenExp List: {sys.getsizeof(m_lst_exp)}\n",
    "Medium GenExp Tuple: {sys.getsizeof(m_tup_exp)}\n",
    "\"\"\")"
   ]
  },
  {
   "cell_type": "code",
   "execution_count": 6,
   "metadata": {},
   "outputs": [
    {
     "name": "stdout",
     "output_type": "stream",
     "text": [
      "\n",
      "Large List Comp Array:20000080\n",
      "Large List Comp List: 43947864\n",
      "Large List Comp Tuple: 40000040\n",
      "\n"
     ]
    }
   ],
   "source": [
    "# large_with_listcomp\n",
    "\n",
    "l_arr_lc = array.array('i', [i for i in range(1, 10000000, 2)])\n",
    "l_lst_lc = [i for i in range(1, 10000000, 2)]\n",
    "l_tup_lc = tuple([i for i in range(1, 10000000, 2)])\n",
    "\n",
    "print(f\"\"\"\n",
    "Large List Comp Array:{sys.getsizeof(l_arr_lc)}\n",
    "Large List Comp List: {sys.getsizeof(l_lst_lc)}\n",
    "Large List Comp Tuple: {sys.getsizeof(l_tup_lc)}\n",
    "\"\"\")"
   ]
  },
  {
   "cell_type": "code",
   "execution_count": 7,
   "metadata": {},
   "outputs": [
    {
     "name": "stdout",
     "output_type": "stream",
     "text": [
      "\n",
      "Large GenExp Array:21030320\n",
      "Large GenExp List: 64\n",
      "Large GenExp Tuple: 40000040\n",
      "\n"
     ]
    }
   ],
   "source": [
    "# large_with_genexp\n",
    "\n",
    "l_arr_exp = array.array('i', (i for i in range(1, 10000000, 2)))\n",
    "l_lst_exp = [(i for i in range(1, 10000000, 2))]\n",
    "l_tup_exp = tuple(i for i in range(1, 10000000, 2))\n",
    "\n",
    "print(f\"\"\"\n",
    "Large GenExp Array:{sys.getsizeof(l_arr_exp)}\n",
    "Large GenExp List: {sys.getsizeof(l_lst_exp)}\n",
    "Large GenExp Tuple: {sys.getsizeof(l_tup_exp)}\n",
    "\"\"\")"
   ]
  },
  {
   "attachments": {},
   "cell_type": "markdown",
   "metadata": {},
   "source": [
    "---"
   ]
  },
  {
   "attachments": {},
   "cell_type": "markdown",
   "metadata": {},
   "source": [
    "## Unpacking"
   ]
  },
  {
   "attachments": {},
   "cell_type": "markdown",
   "metadata": {},
   "source": [
    "Unpacking 1:1"
   ]
  },
  {
   "cell_type": "code",
   "execution_count": 8,
   "metadata": {},
   "outputs": [
    {
     "name": "stdout",
     "output_type": "stream",
     "text": [
      "{123.0934}\n"
     ]
    }
   ],
   "source": [
    "one, two = (123.0934, 21340.0435)\n",
    "\n",
    "print({one})"
   ]
  },
  {
   "attachments": {},
   "cell_type": "markdown",
   "metadata": {},
   "source": [
    "Unpacking with larger iterable than variable count"
   ]
  },
  {
   "cell_type": "code",
   "execution_count": 15,
   "metadata": {},
   "outputs": [
    {
     "name": "stdout",
     "output_type": "stream",
     "text": [
      "one:\t1\n",
      "two:\t2\n",
      "others:\t[3, 4, 5, 6, 7]\n",
      "\n",
      "Type from tuple:\n",
      "\t<class 'tuple'>\n",
      "Type from others:\n",
      "\t<class 'list'>\n"
     ]
    }
   ],
   "source": [
    "tuple = (1, 2, 3, 4, 5, 6, 7)\n",
    "one, two, *others = tuple\n",
    "\n",
    "print(f\"one:\\t{one}\\ntwo:\\t{two}\\nothers:\\t{others}\\n\")\n",
    "print(f\"Type from tuple:\\n\\t{type(tuple)}\\nType from others:\\n\\t{type(others)}\")"
   ]
  },
  {
   "attachments": {},
   "cell_type": "markdown",
   "metadata": {},
   "source": [
    "creating iterables with *"
   ]
  },
  {
   "cell_type": "code",
   "execution_count": 20,
   "metadata": {},
   "outputs": [
    {
     "name": "stdout",
     "output_type": "stream",
     "text": [
      "0 1 2 3 4\n",
      "type() takes 1 or 3 arguments\n"
     ]
    }
   ],
   "source": [
    "print(*range(5))\n",
    "\n",
    "try:\n",
    "    print(type(*range(5)))\n",
    "except Exception as e:\n",
    "    print(e)"
   ]
  },
  {
   "cell_type": "code",
   "execution_count": 23,
   "metadata": {},
   "outputs": [
    {
     "name": "stdout",
     "output_type": "stream",
     "text": [
      "[0, 1, 2, 3, 4, 5, 6, 7]\n",
      "<class 'list'>\n"
     ]
    }
   ],
   "source": [
    "print([*range(8)])\n",
    "\n",
    "print(type([*range(80)]))"
   ]
  },
  {
   "cell_type": "markdown",
   "metadata": {},
   "source": [
    "## Pattern matching"
   ]
  },
  {
   "cell_type": "code",
   "execution_count": 9,
   "metadata": {},
   "outputs": [
    {
     "name": "stdout",
     "output_type": "stream",
     "text": [
      "['pat', 2, 'tesqwert', 'casdfase', (3, 4, 5, 6)]\n",
      "nev: tesqwert \t \t cabasse\n",
      "(3.44, 4.33, 5, 6, 6, 6)\n",
      "nev: teqwerst \t \t caasdasdse\n",
      "['pat', 6, 'teswert', 'casasbdasde', (3, 4, 5, 6)]\n",
      "['pat', 23, 'tadsfest', 'casdbase', (3, 4, 5, 6)]\n",
      "nev: teswert \t \t casasdbdsabe\n",
      "(3.0, 4.2, 5.6, 6.8)\n"
     ]
    }
   ],
   "source": [
    "items = [\n",
    "    [\"pat\", 2, 'tesqwert', 'casdfase', (3, 4, 5, 6)],\n",
    "    [\"nev\",3, 'tesqwert', 'cabasse', (3.3, 4.5, 5.2, 6.5, 9.1)],\n",
    "    [\"pat\", 4, 'tewqerst', 'cawegasse', (3.44, 4.33, 5, 6, 6, 6)],\n",
    "    [\"nev\",5, 'teqwerst', 'caasdasdse', (3.23, 4, 5, 6)],\n",
    "    [\"pat\", 6, 'teswert', 'casasbdasde', (3, 4, 5, 6)],\n",
    "    [\"pat\", 23, 'tadsfest', 'casdbase', (3, 4, 5, 6)],\n",
    "    [\"nev\", 22, 'teswert', 'casasdbdsabe', (3.3, 4.6, 5.3, 6.6)],\n",
    "    [\"never\", 'tasdfest', 'caswere', (3.0, 4.2, 5.6, 6.8)],\n",
    "]\n",
    "\n",
    "for item in items:\n",
    "    match item:\n",
    "        case [\"pat\", int(x), _, _, (v1, v2, v3, v4)]:\n",
    "            print(item)\n",
    "        case [\"nev\", _, str(t1), str(t2), *_]:\n",
    "            print(f\"nev: {t1} \\t \\t {t2}\")\n",
    "        case [*_, t as tail]:\n",
    "            print(tail)"
   ]
  },
  {
   "cell_type": "markdown",
   "metadata": {},
   "source": [
    "## double loop in generator / comprehension"
   ]
  },
  {
   "cell_type": "code",
   "execution_count": 2,
   "metadata": {},
   "outputs": [
    {
     "name": "stdout",
     "output_type": "stream",
     "text": [
      "[0, 0, 0, 0, 0, 1, 1, 1, 1, 1, 2, 2, 2, 2, 2, 3, 3, 3, 3, 3, 4, 4, 4, 4, 4, 5, 5, 5, 5, 5, 6, 6, 6, 6, 6, 7, 7, 7, 7, 7, 8, 8, 8, 8, 8, 9, 9, 9, 9, 9]\n"
     ]
    }
   ],
   "source": [
    "lisT = [t for t in range(10) for i in range(5)]\n",
    "print(lisT)"
   ]
  }
 ],
 "metadata": {
  "kernelspec": {
   "display_name": "Python 3",
   "language": "python",
   "name": "python3"
  },
  "language_info": {
   "codemirror_mode": {
    "name": "ipython",
    "version": 3
   },
   "file_extension": ".py",
   "mimetype": "text/x-python",
   "name": "python",
   "nbconvert_exporter": "python",
   "pygments_lexer": "ipython3",
   "version": "3.12.0"
  }
 },
 "nbformat": 4,
 "nbformat_minor": 2
}
