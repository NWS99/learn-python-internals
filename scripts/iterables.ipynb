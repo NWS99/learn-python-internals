{
 "cells": [
  {
   "cell_type": "code",
   "execution_count": 1,
   "metadata": {},
   "outputs": [
    {
     "name": "stdout",
     "output_type": "stream",
     "text": [
      "\n",
      "Small Array:92\n",
      "Small List: 88\n",
      "Small Tuple: 64\n",
      "\n",
      "\n",
      "Medium List Comp Array:400080\n",
      "Medium List Comp List: 800984\n",
      "Medium List Comp Tuple: 800040\n",
      "\n",
      "\n",
      "Medium GenExp Array:408360\n",
      "Medium GenExp List: 64\n",
      "Medium GenExp Tuple: 800040\n",
      "\n",
      "\n",
      "Large List Comp Array:20000080\n",
      "Large List Comp List: 43947864\n",
      "Large List Comp Tuple: 40000040\n",
      "\n"
     ]
    },
    {
     "name": "stdout",
     "output_type": "stream",
     "text": [
      "\n",
      "Large GenExp Array:21030320\n",
      "Large GenExp List: 64\n",
      "Large GenExp Tuple: 40000040\n",
      "\n"
     ]
    }
   ],
   "source": [
    "\n",
    "import sys\n",
    "import array\n",
    "\n",
    "# small\n",
    "\n",
    "s_arr = array.array('i', [134587, 234589, 33542])\n",
    "s_lst = [134587, 234589, 33542]\n",
    "s_tup = (134587, 234589, 33542)\n",
    "\n",
    "print(f\"\"\"\n",
    "Small Array:{sys.getsizeof(s_arr)}\n",
    "Small List: {sys.getsizeof(s_lst)}\n",
    "Small Tuple: {sys.getsizeof(s_tup)}\n",
    "\"\"\")\n",
    "\n",
    "# medium_with_listcomp\n",
    "\n",
    "m_arr_lc = array.array('i', [i for i in range(1, 1000000, 10)])\n",
    "m_lst_lc = [i for i in range(1, 1000000, 10)]\n",
    "m_tup_lc = tuple([i for i in range(1, 1000000, 10)])\n",
    "\n",
    "print(f\"\"\"\n",
    "Medium List Comp Array:{sys.getsizeof(m_arr_lc)}\n",
    "Medium List Comp List: {sys.getsizeof(m_lst_lc)}\n",
    "Medium List Comp Tuple: {sys.getsizeof(m_tup_lc)}\n",
    "\"\"\")\n",
    "\n",
    "# medium_with_genexp\n",
    "\n",
    "m_arr_exp = array.array('i', (i for i in range(1, 1000000, 10)))\n",
    "m_lst_exp = [(i for i in range(1, 1000000, 10))]\n",
    "m_tup_exp = tuple(i for i in range(1, 1000000, 10))\n",
    "\n",
    "print(f\"\"\"\n",
    "Medium GenExp Array:{sys.getsizeof(m_arr_exp)}\n",
    "Medium GenExp List: {sys.getsizeof(m_lst_exp)}\n",
    "Medium GenExp Tuple: {sys.getsizeof(m_tup_exp)}\n",
    "\"\"\")\n",
    "\n",
    "# large_with_listcomp\n",
    "\n",
    "l_arr_lc = array.array('i', [i for i in range(1, 10000000, 2)])\n",
    "l_lst_lc = [i for i in range(1, 10000000, 2)]\n",
    "l_tup_lc = tuple([i for i in range(1, 10000000, 2)])\n",
    "\n",
    "print(f\"\"\"\n",
    "Large List Comp Array:{sys.getsizeof(l_arr_lc)}\n",
    "Large List Comp List: {sys.getsizeof(l_lst_lc)}\n",
    "Large List Comp Tuple: {sys.getsizeof(l_tup_lc)}\n",
    "\"\"\")\n",
    "\n",
    "# large_with_genexp\n",
    "\n",
    "l_arr_exp = array.array('i', (i for i in range(1, 10000000, 2)))\n",
    "l_lst_exp = [(i for i in range(1, 10000000, 2))]\n",
    "l_tup_exp = tuple(i for i in range(1, 10000000, 2))\n",
    "\n",
    "print(f\"\"\"\n",
    "Large GenExp Array:{sys.getsizeof(l_arr_exp)}\n",
    "Large GenExp List: {sys.getsizeof(l_lst_exp)}\n",
    "Large GenExp Tuple: {sys.getsizeof(l_tup_exp)}\n",
    "\"\"\")"
   ]
  }
 ],
 "metadata": {
  "kernelspec": {
   "display_name": "Python 3",
   "language": "python",
   "name": "python3"
  },
  "language_info": {
   "codemirror_mode": {
    "name": "ipython",
    "version": 3
   },
   "file_extension": ".py",
   "mimetype": "text/x-python",
   "name": "python",
   "nbconvert_exporter": "python",
   "pygments_lexer": "ipython3",
   "version": "3.12.0"
  }
 },
 "nbformat": 4,
 "nbformat_minor": 2
}
