{
 "cells": [
  {
   "attachments": {},
   "cell_type": "markdown",
   "metadata": {},
   "source": [
    "# Learning Iterables"
   ]
  },
  {
   "attachments": {},
   "cell_type": "markdown",
   "metadata": {},
   "source": [
    "## Size comparison"
   ]
  },
  {
   "cell_type": "code",
   "execution_count": 1,
   "metadata": {},
   "outputs": [
    {
     "name": "stdout",
     "output_type": "stream",
     "text": [
      "\n",
      "Small Array:92\n",
      "Small List: 88\n",
      "Small Tuple: 64\n",
      "\n",
      "\n",
      "Medium List Comp Array:400080\n",
      "Medium List Comp List: 800984\n",
      "Medium List Comp Tuple: 800040\n",
      "\n",
      "\n",
      "Medium GenExp Array:408360\n",
      "Medium GenExp List: 64\n",
      "Medium GenExp Tuple: 800040\n",
      "\n",
      "\n",
      "Large List Comp Array:20000080\n",
      "Large List Comp List: 43947864\n",
      "Large List Comp Tuple: 40000040\n",
      "\n"
     ]
    },
    {
     "name": "stdout",
     "output_type": "stream",
     "text": [
      "\n",
      "Large GenExp Array:21030320\n",
      "Large GenExp List: 64\n",
      "Large GenExp Tuple: 40000040\n",
      "\n"
     ]
    }
   ],
   "source": [
    "import sys\n",
    "import array"
   ]
  },
  {
   "cell_type": "code",
   "execution_count": null,
   "metadata": {},
   "outputs": [],
   "source": [
    "# small\n",
    "\n",
    "s_arr = array.array('i', [134587, 234589, 33542])\n",
    "s_lst = [134587, 234589, 33542]\n",
    "s_tup = (134587, 234589, 33542)\n",
    "\n",
    "print(f\"\"\"\n",
    "Small Array:{sys.getsizeof(s_arr)}\n",
    "Small List: {sys.getsizeof(s_lst)}\n",
    "Small Tuple: {sys.getsizeof(s_tup)}\n",
    "\"\"\")"
   ]
  },
  {
   "cell_type": "code",
   "execution_count": null,
   "metadata": {},
   "outputs": [],
   "source": [
    "# medium_with_listcomp\n",
    "\n",
    "m_arr_lc = array.array('i', [i for i in range(1, 1000000, 10)])\n",
    "m_lst_lc = [i for i in range(1, 1000000, 10)]\n",
    "m_tup_lc = tuple([i for i in range(1, 1000000, 10)])\n",
    "\n",
    "print(f\"\"\"\n",
    "Medium List Comp Array:{sys.getsizeof(m_arr_lc)}\n",
    "Medium List Comp List: {sys.getsizeof(m_lst_lc)}\n",
    "Medium List Comp Tuple: {sys.getsizeof(m_tup_lc)}\n",
    "\"\"\")"
   ]
  },
  {
   "cell_type": "code",
   "execution_count": null,
   "metadata": {},
   "outputs": [],
   "source": [
    "# medium_with_genexp\n",
    "\n",
    "m_arr_exp = array.array('i', (i for i in range(1, 1000000, 10)))\n",
    "m_lst_exp = [(i for i in range(1, 1000000, 10))]\n",
    "m_tup_exp = tuple(i for i in range(1, 1000000, 10))\n",
    "\n",
    "print(f\"\"\"\n",
    "Medium GenExp Array:{sys.getsizeof(m_arr_exp)}\n",
    "Medium GenExp List: {sys.getsizeof(m_lst_exp)}\n",
    "Medium GenExp Tuple: {sys.getsizeof(m_tup_exp)}\n",
    "\"\"\")"
   ]
  },
  {
   "cell_type": "code",
   "execution_count": null,
   "metadata": {},
   "outputs": [],
   "source": [
    "# large_with_listcomp\n",
    "\n",
    "l_arr_lc = array.array('i', [i for i in range(1, 10000000, 2)])\n",
    "l_lst_lc = [i for i in range(1, 10000000, 2)]\n",
    "l_tup_lc = tuple([i for i in range(1, 10000000, 2)])\n",
    "\n",
    "print(f\"\"\"\n",
    "Large List Comp Array:{sys.getsizeof(l_arr_lc)}\n",
    "Large List Comp List: {sys.getsizeof(l_lst_lc)}\n",
    "Large List Comp Tuple: {sys.getsizeof(l_tup_lc)}\n",
    "\"\"\")"
   ]
  },
  {
   "cell_type": "code",
   "execution_count": null,
   "metadata": {},
   "outputs": [],
   "source": [
    "# large_with_genexp\n",
    "\n",
    "l_arr_exp = array.array('i', (i for i in range(1, 10000000, 2)))\n",
    "l_lst_exp = [(i for i in range(1, 10000000, 2))]\n",
    "l_tup_exp = tuple(i for i in range(1, 10000000, 2))\n",
    "\n",
    "print(f\"\"\"\n",
    "Large GenExp Array:{sys.getsizeof(l_arr_exp)}\n",
    "Large GenExp List: {sys.getsizeof(l_lst_exp)}\n",
    "Large GenExp Tuple: {sys.getsizeof(l_tup_exp)}\n",
    "\"\"\")"
   ]
  },
  {
   "attachments": {},
   "cell_type": "markdown",
   "metadata": {},
   "source": [
    "---"
   ]
  },
  {
   "attachments": {},
   "cell_type": "markdown",
   "metadata": {},
   "source": [
    "## Unpacking"
   ]
  },
  {
   "cell_type": "code",
   "execution_count": null,
   "metadata": {},
   "outputs": [
    {
     "ename": "",
     "evalue": "",
     "output_type": "error",
     "traceback": [
      "\u001b[1;31mJupyter cannot be started. Error attempting to locate Jupyter: 'Kernelspec' module not installed in the selected interpreter (/home/niklasw/Desktop/Repos/learn-python-internals/scripts/venv/bin/python).\n",
      "\u001b[1;31m Please re-install or update 'jupyter'.\n",
      "\u001b[1;31mRun the following command to install 'jupyter and notebook' into the Python environment. \n",
      "\u001b[1;31mCommand: 'python -m pip install jupyter notebook -U\n",
      "\u001b[1;31mor\n",
      "\u001b[1;31mconda install jupyter notebook -U'\n",
      "\u001b[1;31mClick <a href='https://aka.ms/installJupyterForVSCode'>here</a> for more info."
     ]
    }
   ],
   "source": [
    "one, two = (123.0934, 21340.0435)\n",
    "\n",
    "print({one})"
   ]
  }
 ],
 "metadata": {
  "kernelspec": {
   "display_name": "Python 3",
   "language": "python",
   "name": "python3"
  },
  "language_info": {
   "codemirror_mode": {
    "name": "ipython",
    "version": 3
   },
   "file_extension": ".py",
   "mimetype": "text/x-python",
   "name": "python",
   "nbconvert_exporter": "python",
   "pygments_lexer": "ipython3",
   "version": "3.10.13"
  }
 },
 "nbformat": 4,
 "nbformat_minor": 2
}
